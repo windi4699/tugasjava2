{
 "cells": [
  {
   "cell_type": "markdown",
   "metadata": {},
   "source": [
    "Jawaban 3.A1."
   ]
  },
  {
   "cell_type": "markdown",
   "metadata": {},
   "source": [
    "sequence adalah suatu struktur program dimana setiap baris program akan dikerjakan secara urut dari atas ke bawah sesuai dengan urutan penulisannya, sedangkan Pada selection tidak setiap baris program akan dikerjakan. Baris prorgam yang dikerjakan hanya yang memenuhi syarat saja."
   ]
  },
  {
   "cell_type": "markdown",
   "metadata": {},
   "source": [
    "Jawaban 3.A2."
   ]
  },
  {
   "cell_type": "markdown",
   "metadata": {},
   "source": [
    "a. Tipe data pada price adalah double"
   ]
  },
  {
   "cell_type": "code",
   "execution_count": 1,
   "metadata": {},
   "outputs": [
    {
     "name": "stdout",
     "output_type": "stream",
     "text": [
      "Umur penonton : 11Ticket price = 10.0\n"
     ]
    },
    {
     "data": {
      "text/plain": [
       "null"
      ]
     },
     "execution_count": 1,
     "metadata": {},
     "output_type": "execute_result"
    }
   ],
   "source": [
    "double price;\n",
    "price = 10.00;\n",
    "int age; \n",
    "age = 11;\n",
    "System.out.print(\"Umur penonton : \"+age); \n",
    "// code to reduce ticket price for children goes here \n",
    "System.out.println(\"Ticket price = \" + price);"
   ]
  },
  {
   "cell_type": "markdown",
   "metadata": {},
   "source": [
    "b."
   ]
  },
  {
   "cell_type": "code",
   "execution_count": 8,
   "metadata": {},
   "outputs": [
    {
     "name": "stdout",
     "output_type": "stream",
     "text": [
      "Harga: 5.0\n"
     ]
    },
    {
     "data": {
      "text/plain": [
       "null"
      ]
     },
     "execution_count": 8,
     "metadata": {},
     "output_type": "execute_result"
    }
   ],
   "source": [
    "double price=10.0;\n",
    "double discount_price;\n",
    "int age; \n",
    "discount_price=price/2;\n",
    "age = 9;\n",
    "\n",
    " if (age > 14) { \n",
    "   System.out.println(\"Harga: \"+price); \n",
    " }else{ \n",
    "   System.out.println(\"Harga: \"+discount_price); \n",
    "  } \n",
    "\n"
   ]
  },
  {
   "cell_type": "markdown",
   "metadata": {},
   "source": [
    "Jawaban 3.A3."
   ]
  },
  {
   "cell_type": "markdown",
   "metadata": {},
   "source": [
    "a."
   ]
  },
  {
   "cell_type": "code",
   "execution_count": 9,
   "metadata": {},
   "outputs": [
    {
     "name": "stdout",
     "output_type": "stream",
     "text": [
      "Blue\n",
      "Red\n"
     ]
    },
    {
     "data": {
      "text/plain": [
       "null"
      ]
     },
     "execution_count": 9,
     "metadata": {},
     "output_type": "execute_result"
    }
   ],
   "source": [
    "int x; \n",
    "x = 10; \n",
    " if (x > 10) { \n",
    "   System.out.println(\"Green\"); \n",
    " }else{ \n",
    "   System.out.println(\"Blue\"); \n",
    "  } \n",
    "\n",
    " System.out.println(\"Red\");"
   ]
  },
  {
   "cell_type": "markdown",
   "metadata": {},
   "source": [
    "b. "
   ]
  },
  {
   "cell_type": "code",
   "execution_count": 10,
   "metadata": {},
   "outputs": [
    {
     "name": "stdout",
     "output_type": "stream",
     "text": [
      "Green\n",
      "Red\n"
     ]
    },
    {
     "data": {
      "text/plain": [
       "null"
      ]
     },
     "execution_count": 10,
     "metadata": {},
     "output_type": "execute_result"
    }
   ],
   "source": [
    "int x; \n",
    "x = 20; \n",
    " if (x > 10) { \n",
    "   System.out.println(\"Green\"); \n",
    " }else{ \n",
    "   System.out.println(\"Blue\"); \n",
    "  } \n",
    "\n",
    " System.out.println(\"Red\");"
   ]
  },
  {
   "cell_type": "markdown",
   "metadata": {},
   "source": [
    "Jawaban 3.A4."
   ]
  },
  {
   "cell_type": "code",
   "execution_count": 11,
   "metadata": {},
   "outputs": [
    {
     "name": "stdout",
     "output_type": "stream",
     "text": [
      "Green\n",
      "Red\n"
     ]
    },
    {
     "data": {
      "text/plain": [
       "null"
      ]
     },
     "execution_count": 11,
     "metadata": {},
     "output_type": "execute_result"
    }
   ],
   "source": [
    "int y; \n",
    "\n",
    "y = 1; \n",
    "\n",
    "switch (y) \n",
    " { case 1: \n",
    "   case 2: \n",
    "   System.out.println(\"Green\"); break; \n",
    "   case 3: \n",
    "   case 4: \n",
    "   case 5: System.out.println(\"Blue\"); break; \n",
    "   default: System.out.println(\"numbers 1-5 only\"); \n",
    "  } \n",
    " System.out.println(\"Red\");"
   ]
  },
  {
   "cell_type": "markdown",
   "metadata": {},
   "source": [
    "b."
   ]
  },
  {
   "cell_type": "code",
   "execution_count": 12,
   "metadata": {},
   "outputs": [
    {
     "name": "stdout",
     "output_type": "stream",
     "text": [
      "Green\n",
      "Red\n"
     ]
    },
    {
     "data": {
      "text/plain": [
       "null"
      ]
     },
     "execution_count": 12,
     "metadata": {},
     "output_type": "execute_result"
    }
   ],
   "source": [
    "int y; \n",
    "\n",
    "y = 2; \n",
    "\n",
    "switch (y) \n",
    " { case 1: \n",
    "   case 2: \n",
    "   System.out.println(\"Green\"); break; \n",
    "   case 3: \n",
    "   case 4: \n",
    "   case 5: System.out.println(\"Blue\"); break; \n",
    "   default: System.out.println(\"numbers 1-5 only\"); \n",
    "  } \n",
    " System.out.println(\"Red\");"
   ]
  },
  {
   "cell_type": "markdown",
   "metadata": {},
   "source": [
    "c. "
   ]
  },
  {
   "cell_type": "code",
   "execution_count": 13,
   "metadata": {},
   "outputs": [
    {
     "name": "stdout",
     "output_type": "stream",
     "text": [
      "Blue\n",
      "Red\n"
     ]
    },
    {
     "data": {
      "text/plain": [
       "null"
      ]
     },
     "execution_count": 13,
     "metadata": {},
     "output_type": "execute_result"
    }
   ],
   "source": [
    "int y; \n",
    "\n",
    "y = 3; \n",
    "\n",
    "switch (y) \n",
    " { case 1: \n",
    "   case 2: \n",
    "   System.out.println(\"Green\"); break; \n",
    "   case 3: \n",
    "   case 4: \n",
    "   case 5: System.out.println(\"Blue\"); break; \n",
    "   default: System.out.println(\"numbers 1-5 only\"); \n",
    "  } \n",
    " System.out.println(\"Red\");"
   ]
  },
  {
   "cell_type": "markdown",
   "metadata": {},
   "source": [
    "d."
   ]
  },
  {
   "cell_type": "code",
   "execution_count": 16,
   "metadata": {},
   "outputs": [
    {
     "name": "stdout",
     "output_type": "stream",
     "text": [
      "numbers 1-5 only\n",
      "Red\n"
     ]
    },
    {
     "data": {
      "text/plain": [
       "null"
      ]
     },
     "execution_count": 16,
     "metadata": {},
     "output_type": "execute_result"
    }
   ],
   "source": [
    "int y; \n",
    "\n",
    "y = 10; \n",
    "\n",
    "switch (y) \n",
    " { case 1: \n",
    "   case 2: \n",
    "   System.out.println(\"Green\"); break; \n",
    "   case 3: \n",
    "   case 4: \n",
    "   case 5: System.out.println(\"Blue\"); break; \n",
    "   default: System.out.println(\"numbers 1-5 only\"); \n",
    "  } \n",
    " System.out.println(\"Red\");"
   ]
  },
  {
   "cell_type": "markdown",
   "metadata": {},
   "source": [
    "e."
   ]
  },
  {
   "cell_type": "code",
   "execution_count": 17,
   "metadata": {},
   "outputs": [
    {
     "name": "stdout",
     "output_type": "stream",
     "text": [
      "Blue\n",
      "numbers 1-5 only\n",
      "Red\n"
     ]
    },
    {
     "data": {
      "text/plain": [
       "null"
      ]
     },
     "execution_count": 17,
     "metadata": {},
     "output_type": "execute_result"
    }
   ],
   "source": [
    "int y; \n",
    "\n",
    "y = 3; \n",
    "\n",
    "switch (y) \n",
    " { case 1: \n",
    "   case 2: \n",
    "   System.out.println(\"Green\"); \n",
    "   case 3: \n",
    "   case 4: \n",
    "   case 5: System.out.println(\"Blue\"); \n",
    "   default: System.out.println(\"numbers 1-5 only\"); \n",
    "  } \n",
    " System.out.println(\"Red\");"
   ]
  },
  {
   "cell_type": "markdown",
   "metadata": {},
   "source": [
    "f. "
   ]
  },
  {
   "cell_type": "code",
   "execution_count": 18,
   "metadata": {},
   "outputs": [
    {
     "name": "stdout",
     "output_type": "stream",
     "text": [
      "Red\n"
     ]
    },
    {
     "data": {
      "text/plain": [
       "null"
      ]
     },
     "execution_count": 18,
     "metadata": {},
     "output_type": "execute_result"
    }
   ],
   "source": [
    "int y; \n",
    "\n",
    "y = 10; \n",
    "\n",
    "switch (y) \n",
    " { case 1: \n",
    "   case 2: \n",
    "   System.out.println(\"Green\"); break; \n",
    "   case 3: \n",
    "   case 4: \n",
    "   case 5: System.out.println(\"Blue\"); break; \n",
    "   \n",
    "  } \n",
    " System.out.println(\"Red\");"
   ]
  },
  {
   "cell_type": "markdown",
   "metadata": {},
   "source": [
    "Jawaban 3.A5."
   ]
  },
  {
   "cell_type": "markdown",
   "metadata": {},
   "source": [
    "1."
   ]
  },
  {
   "cell_type": "code",
   "execution_count": 22,
   "metadata": {},
   "outputs": [
    {
     "name": "stdout",
     "output_type": "stream",
     "text": [
      "YES 1\n",
      "YES 2\n",
      "YES 3\n",
      "YES 4\n",
      "OK\n"
     ]
    },
    {
     "data": {
      "text/plain": [
       "null"
      ]
     },
     "execution_count": 22,
     "metadata": {},
     "output_type": "execute_result"
    }
   ],
   "source": [
    "for(int i = 1; i <= 4; i++) \n",
    " { \n",
    "   System.out.println(\"YES \"+i);  \n",
    " } \n",
    " System.out.println(\"OK\");"
   ]
  },
  {
   "cell_type": "markdown",
   "metadata": {},
   "source": [
    "2."
   ]
  },
  {
   "cell_type": "code",
   "execution_count": 23,
   "metadata": {},
   "outputs": [
    {
     "name": "stdout",
     "output_type": "stream",
     "text": [
      "YES 1\n",
      "YES 2\n",
      "YES 3\n",
      "YES 4\n",
      "OK\n"
     ]
    },
    {
     "data": {
      "text/plain": [
       "null"
      ]
     },
     "execution_count": 23,
     "metadata": {},
     "output_type": "execute_result"
    }
   ],
   "source": [
    "//program ulang1\n",
    " for(int i = 1; i <= 4; i++) \n",
    " { \n",
    "   System.out.println(\"YES \"+i);  \n",
    " } \n",
    " System.out.println(\"OK\");"
   ]
  },
  {
   "cell_type": "markdown",
   "metadata": {},
   "source": [
    "3."
   ]
  },
  {
   "cell_type": "code",
   "execution_count": 24,
   "metadata": {},
   "outputs": [
    {
     "name": "stdout",
     "output_type": "stream",
     "text": [
      "OK\n"
     ]
    },
    {
     "data": {
      "text/plain": [
       "null"
      ]
     },
     "execution_count": 24,
     "metadata": {},
     "output_type": "execute_result"
    }
   ],
   "source": [
    "//program ulang2\n",
    " for(int j = 12; j < 3; j--) \n",
    " { \n",
    "   System.out.println(\"YES  \"+j);  \n",
    " } \n",
    "System.out.println(\"OK\");"
   ]
  },
  {
   "cell_type": "markdown",
   "metadata": {},
   "source": [
    "4."
   ]
  },
  {
   "cell_type": "code",
   "execution_count": 25,
   "metadata": {},
   "outputs": [
    {
     "name": "stdout",
     "output_type": "stream",
     "text": [
      "OK\n"
     ]
    },
    {
     "data": {
      "text/plain": [
       "null"
      ]
     },
     "execution_count": 25,
     "metadata": {},
     "output_type": "execute_result"
    }
   ],
   "source": [
    "//program ulang2\n",
    " for(int j = 12; j < 3; j--) \n",
    " { \n",
    "   System.out.println(\"YES  \"+j);  \n",
    " } \n",
    "System.out.println(\"OK\");"
   ]
  },
  {
   "cell_type": "markdown",
   "metadata": {},
   "source": [
    "5."
   ]
  },
  {
   "cell_type": "markdown",
   "metadata": {},
   "source": [
    "Perbedaan kedua program ulang1 dan ulang2:\n",
    "\n",
    "pada program ualng1 i++, ++ dalam bahasa pemrograman disebut increment (istilah lainnya menambahkan nilai variabel sebanyak 1),sedangkan\n",
    "Pada program ulang2, terdapat j--, -- dalam bahasa pemrograman disebut decrement (istilah lainnya mengurangi nilai variabel sebanyak 1)\n",
    "\n",
    "\n"
   ]
  },
  {
   "cell_type": "markdown",
   "metadata": {},
   "source": [
    "Jawaban 3.A6."
   ]
  },
  {
   "cell_type": "code",
   "execution_count": 26,
   "metadata": {},
   "outputs": [
    {
     "name": "stdout",
     "output_type": "stream",
     "text": [
      "1\n",
      "2\n",
      "3\n",
      "4\n",
      "5\n"
     ]
    },
    {
     "data": {
      "text/plain": [
       "null"
      ]
     },
     "execution_count": 26,
     "metadata": {},
     "output_type": "execute_result"
    }
   ],
   "source": [
    "//program forif1\n",
    "    for(int l=1; l<=10; l++)  \n",
    "    { if (l > 5)   \n",
    "      { break;   } \n",
    "        System.out.println(l);  \n",
    "    }"
   ]
  },
  {
   "cell_type": "code",
   "execution_count": 27,
   "metadata": {},
   "outputs": [
    {
     "name": "stdout",
     "output_type": "stream",
     "text": [
      "6\n",
      "7\n",
      "8\n",
      "9\n",
      "10\n"
     ]
    },
    {
     "data": {
      "text/plain": [
       "null"
      ]
     },
     "execution_count": 27,
     "metadata": {},
     "output_type": "execute_result"
    }
   ],
   "source": [
    "//program forif2\n",
    "    for(int i=1; i<=10; i++)  \n",
    "    { if (i <= 5){ continue; } \n",
    "    System.out.println(i);}"
   ]
  },
  {
   "cell_type": "markdown",
   "metadata": {},
   "source": [
    "Jawaban 3B"
   ]
  },
  {
   "cell_type": "markdown",
   "metadata": {},
   "source": [
    "3.B1."
   ]
  },
  {
   "cell_type": "code",
   "execution_count": 30,
   "metadata": {},
   "outputs": [
    {
     "name": "stdout",
     "output_type": "stream",
     "text": [
      "NUMBERS ARE NOT EQUAL\n"
     ]
    },
    {
     "data": {
      "text/plain": [
       "null"
      ]
     },
     "execution_count": 30,
     "metadata": {},
     "output_type": "execute_result"
    }
   ],
   "source": [
    "double x,y; \n",
    "x = 12;\n",
    "y =19;\n",
    " if (x == y) { \n",
    "   System.out.println(\"NUMBERS ARE EQUAL\"); \n",
    " }else{ \n",
    "   System.out.println(\"NUMBERS ARE NOT EQUAL\"); \n",
    "  } "
   ]
  },
  {
   "cell_type": "markdown",
   "metadata": {},
   "source": [
    "3.B2"
   ]
  },
  {
   "cell_type": "code",
   "execution_count": 31,
   "metadata": {},
   "outputs": [
    {
     "name": "stdout",
     "output_type": "stream",
     "text": [
      "NUMBERS ARE EQUAL\n"
     ]
    },
    {
     "data": {
      "text/plain": [
       "null"
      ]
     },
     "execution_count": 31,
     "metadata": {},
     "output_type": "execute_result"
    }
   ],
   "source": [
    "double x,y; \n",
    "x = 12;\n",
    "y =12;\n",
    " if (x == y) { \n",
    "   System.out.println(\"NUMBERS ARE EQUAL\"); \n",
    " }else{ \n",
    "   System.out.println(\"NUMBERS ARE NOT EQUAL\"); \n",
    "  } "
   ]
  },
  {
   "cell_type": "markdown",
   "metadata": {},
   "source": [
    "3.B3."
   ]
  },
  {
   "cell_type": "markdown",
   "metadata": {},
   "source": [
    "IF : Biasanya digunakan untuk melakukan pengecualian terhadap suatu kondisi, tanpa memerlukan blok perintah else. Karena tidak ada yang perlu dilakukan jika kondisi IF utama tidak terpenuhi.\n",
    "\n",
    "IF...ELSE: Biasanya digunakan untuk membuat sebuah ekspresi yang melibatkan banyak aksi untuk kondisi yang berbeda, kondisi dan aksi tersebut bisa berjumlah lebih dari 2.\n",
    "\n",
    "SWITCH: Switch-case digunakan untuk menangani kasus percabangan dengan kondisi berupa nilai konstanta tegas, biasanya berupa bilangan bulat atau karakter tunggal. Implementasi dari penggunaan switch-case adalah pada menu makanan, mesin atm, dan lain-lain. Perbedaan dasar dengan IF-ELSE dapat menangani berbagai macam ekspresi logika, sedangkan switch-case hanya berupa konstanta tegas."
   ]
  },
  {
   "cell_type": "markdown",
   "metadata": {},
   "source": [
    "3.B4."
   ]
  },
  {
   "cell_type": "code",
   "execution_count": 34,
   "metadata": {},
   "outputs": [
    {
     "name": "stdout",
     "output_type": "stream",
     "text": [
      "1\n",
      "2\n",
      "3\n",
      "4\n",
      "5\n"
     ]
    },
    {
     "data": {
      "text/plain": [
       "null"
      ]
     },
     "execution_count": 34,
     "metadata": {},
     "output_type": "execute_result"
    }
   ],
   "source": [
    "int x=1;\n",
    "       while (x<=5) {           \n",
    "           System.out.println(+x);\n",
    "           x++;\n",
    "       }"
   ]
  },
  {
   "cell_type": "code",
   "execution_count": 42,
   "metadata": {},
   "outputs": [
    {
     "ename": "class, interface, or enum expected",
     "evalue": "class, interface, or enum expected",
     "output_type": "error",
     "traceback": [
      "\u001b[1;31mclass, interface, or enum expected\u001b[0;0m",
      "\u001b[1;31m }\u001b[0;0m",
      "\u001b[1;31m ^ \u001b[0;0m"
     ]
    }
   ],
   "source": [
    "int x=6;\n",
    "       do{\n",
    "           System.out.println(+x);\n",
    "           x++;\n",
    "       }while (x<=10);\n",
    "   }"
   ]
  },
  {
   "cell_type": "code",
   "execution_count": null,
   "metadata": {},
   "outputs": [],
   "source": []
  }
 ],
 "metadata": {
  "kernelspec": {
   "display_name": "Java",
   "language": "java",
   "name": "java"
  },
  "language_info": {
   "codemirror_mode": "text/x-java",
   "file_extension": ".java",
   "mimetype": "",
   "name": "Java",
   "nbconverter_exporter": "",
   "version": "1.8.0_121"
  },
  "toc": {
   "base_numbering": 1,
   "nav_menu": {},
   "number_sections": false,
   "sideBar": false,
   "skip_h1_title": false,
   "title_cell": "Table of Contents",
   "title_sidebar": "Contents",
   "toc_cell": false,
   "toc_position": {},
   "toc_section_display": false,
   "toc_window_display": false
  }
 },
 "nbformat": 4,
 "nbformat_minor": 2
}
